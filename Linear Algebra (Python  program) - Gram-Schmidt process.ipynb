{
 "cells": [
  {
   "cell_type": "code",
   "execution_count": 1,
   "metadata": {},
   "outputs": [],
   "source": [
    "import numpy as np\n",
    "import numpy.linalg as la\n",
    "\n",
    "def gsBasis(A) :\n",
    "    # first copy array A to B\n",
    "    B = np.array(A, dtype=np.float_) \n",
    "    \n",
    "    # loop over all vectors\n",
    "    for i in range(B.shape[1]) :\n",
    "        \n",
    "        # nested loop - loop over all previous vectors of i       \n",
    "        for j in range(i) :\n",
    "            # subtract the overlap with previous vectors\n",
    "            B[:, i] = B[:, i] - B[:, i] @ B[:, j] * B[:, j]\n",
    "            \n",
    "        # perform normalisation test \n",
    "        if la.norm(B[:, i]) > 0 :\n",
    "            B[:, i] = B[:, i] / la.norm(B[:, i])\n",
    "        else :\n",
    "            B[:, i] = np.zeros_like(B[:, i])\n",
    "        \n",
    "        return B\n",
    "\n",
    "\n",
    "def dimensions(A) :\n",
    "    # add up the norms of all vectors \n",
    "    return np.sum(la.norm(gsBasis(A), axis=0))\n"
   ]
  },
  {
   "cell_type": "code",
   "execution_count": null,
   "metadata": {},
   "outputs": [],
   "source": []
  },
  {
   "cell_type": "code",
   "execution_count": null,
   "metadata": {},
   "outputs": [],
   "source": []
  }
 ],
 "metadata": {
  "kernelspec": {
   "display_name": "Python 3",
   "language": "python",
   "name": "python3"
  },
  "language_info": {
   "codemirror_mode": {
    "name": "ipython",
    "version": 3
   },
   "file_extension": ".py",
   "mimetype": "text/x-python",
   "name": "python",
   "nbconvert_exporter": "python",
   "pygments_lexer": "ipython3",
   "version": "3.7.3"
  }
 },
 "nbformat": 4,
 "nbformat_minor": 2
}
