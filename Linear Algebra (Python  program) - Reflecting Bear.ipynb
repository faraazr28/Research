{
 "cells": [
  {
   "cell_type": "code",
   "execution_count": 18,
   "metadata": {},
   "outputs": [
    {
     "name": "stdout",
     "output_type": "stream",
     "text": [
      "Given BearBasis Matrix: \n",
      " [[ 1 -2]\n",
      " [ 3  2]]\n",
      "Reflection Matrix T: \n",
      " [[-0.8  0.6]\n",
      " [ 0.6  0.8]]\n"
     ]
    }
   ],
   "source": [
    "import numpy as np\n",
    "import numpy.linalg as la\n",
    "\n",
    "\n",
    "# The parameter M_bearBasis (a 2×2 matrix) that is passed to the function\n",
    "def create_reflection_matrix(bearBasis_M) : \n",
    "\n",
    "    # Reflection Matrix against x-axis on a 2D plane  \n",
    "    T_e = np.array([[1, 0],\n",
    "                    [0, -1]])\n",
    "    \n",
    "    # the gsBasis function will return the mirror's orthonormal basis.\n",
    "    # assumption: gsBasis() has been implemented for Gram-Schmidt process  \n",
    "    E = gsBasis(bearBasis_M)\n",
    "    \n",
    "    # build the combined reflection matrix \n",
    "    # symbol \"@\" represents \"dot\" product of vectors\n",
    "    T = E @ T_e @ inv(E)\n",
    "    \n",
    "    return T\n",
    "\n",
    "\n",
    "# Bear basis matrix\n",
    "bearBasis_M = np.array(\n",
    "    [[1, -2],\n",
    "     [3, 2]])\n",
    "\n",
    "# Transformation matrix\n",
    "T = create_reflection_matrix(bearBasis_M)\n",
    "\n",
    "#display the reflection Matrix\n",
    "print(\"Given BearBasis Matrix: \\n\", bearBasis_M)\n",
    "print(\"Reflection Matrix T: \\n\", T)\n"
   ]
  },
  {
   "cell_type": "code",
   "execution_count": null,
   "metadata": {},
   "outputs": [],
   "source": []
  },
  {
   "cell_type": "code",
   "execution_count": null,
   "metadata": {},
   "outputs": [],
   "source": []
  },
  {
   "cell_type": "code",
   "execution_count": null,
   "metadata": {},
   "outputs": [],
   "source": []
  }
 ],
 "metadata": {
  "kernelspec": {
   "display_name": "Python 3",
   "language": "python",
   "name": "python3"
  },
  "language_info": {
   "codemirror_mode": {
    "name": "ipython",
    "version": 3
   },
   "file_extension": ".py",
   "mimetype": "text/x-python",
   "name": "python",
   "nbconvert_exporter": "python",
   "pygments_lexer": "ipython3",
   "version": "3.7.3"
  }
 },
 "nbformat": 4,
 "nbformat_minor": 2
}
