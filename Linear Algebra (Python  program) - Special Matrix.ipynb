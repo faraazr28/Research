{
 "cells": [
  {
   "cell_type": "code",
   "execution_count": 9,
   "metadata": {},
   "outputs": [
    {
     "name": "stdout",
     "output_type": "stream",
     "text": [
      "Matrix  [[1, 0, 0], [0, 1, 0], [0, 0, 1]]  is NOT a Singular Matrix\n",
      "Matrix  [[1, 0, 0], [0, 1, 0], [0, 0, 1]]  is an Identity Matrix\n",
      "Matrix  [[1, 0, 0], [0, 1, 0], [0, 0, 1]]  is a Symmetric Matrix\n",
      "\n",
      "Matrix  [[1, 1, 3], [1, 2, 4], [2, 3, 7]]  is a Singular Matrix\n",
      "Matrix  [[1, 1, 3], [1, 2, 4], [2, 3, 7]]  is NOT an Identity Matrix\n",
      "Matrix  [[1, 1, 3], [1, 2, 4], [2, 3, 7]]  is NOT a Symmetric Matrix\n",
      "\n",
      "Matrix  [[1, 2, 3], [2, 5, 6], [3, 6, 7]]  is NOT a Singular Matrix\n",
      "Matrix  [[1, 2, 3], [2, 5, 6], [3, 6, 7]]  is NOT an Identity Matrix\n",
      "Matrix  [[1, 2, 3], [2, 5, 6], [3, 6, 7]]  is a Symmetric Matrix\n"
     ]
    }
   ],
   "source": [
    "# this program checks if a Matrix is a special type. \n",
    "# We are checking for Identity Matrix, Singular Matrix, and Symmetric matrix\n",
    "import numpy as np\n",
    "\n",
    "# an identity matrix\n",
    "A1 = [[1, 0, 0],\n",
    "     [0, 1, 0],\n",
    "     [0, 0, 1]]\n",
    "\n",
    "# a matrix with determinant=0\n",
    "A2 = [[1, 1, 3],\n",
    "     [1, 2, 4],\n",
    "     [2, 3, 7]]\n",
    "\n",
    "# a symmetric matrix\n",
    "A3 = [[1, 2, 3],\n",
    "     [2, 5, 6],\n",
    "     [3, 6, 7]]\n",
    "\n",
    "# check if matrix is Singular\n",
    "def isSingularMatrix(M) :\n",
    "    det = np.linalg.det(M)\n",
    "    \n",
    "    if det == 0:\n",
    "       # Matrix is a Singular matrix\n",
    "       return True\n",
    "    else:\n",
    "       return False\n",
    "\n",
    "    \n",
    "# check if identity matrix\n",
    "def isIdentityMatrix(M) :\n",
    "    B = np.identity(len(M))\n",
    "\n",
    "    if (np.all(np.equal(M, B))):\n",
    "        # Matrix is an Identity matrix\n",
    "        return True\n",
    "    else:\n",
    "        return False\n",
    "\n",
    "# check if Symmetric matrix\n",
    "def isSymmetricMatrix(M) :\n",
    "    C = np.transpose(M)\n",
    "    \n",
    "    if (np.all(np.equal(M, C))):\n",
    "        # Matrix is a symmetric matrix\n",
    "        return True\n",
    "    else:\n",
    "        return False\n",
    "    \n",
    "        \n",
    "def checkMatrixProperties(M) :\n",
    "    if (isSingularMatrix(M)): \n",
    "        print(\"Matrix \", M, \" is a Singular Matrix\")\n",
    "    else:\n",
    "        print(\"Matrix \", M, \" is NOT a Singular Matrix\")\n",
    "\n",
    "    if (isIdentityMatrix(M)): \n",
    "        print(\"Matrix \", M, \" is an Identity Matrix\")\n",
    "    else:\n",
    "        print(\"Matrix \", M, \" is NOT an Identity Matrix\")\n",
    "        \n",
    "    if (isSymmetricMatrix(M)): \n",
    "        print(\"Matrix \", M, \" is a Symmetric Matrix\")\n",
    "    else:\n",
    "        print(\"Matrix \", M, \" is NOT a Symmetric Matrix\")\n",
    "\n",
    "# main program body\n",
    "checkMatrixProperties(A1)\n",
    "print()\n",
    "checkMatrixProperties(A2)\n",
    "print()\n",
    "checkMatrixProperties(A3)"
   ]
  },
  {
   "cell_type": "code",
   "execution_count": null,
   "metadata": {},
   "outputs": [],
   "source": []
  },
  {
   "cell_type": "code",
   "execution_count": null,
   "metadata": {},
   "outputs": [],
   "source": []
  },
  {
   "cell_type": "code",
   "execution_count": null,
   "metadata": {},
   "outputs": [],
   "source": []
  },
  {
   "cell_type": "code",
   "execution_count": null,
   "metadata": {},
   "outputs": [],
   "source": []
  }
 ],
 "metadata": {
  "kernelspec": {
   "display_name": "Python 3",
   "language": "python",
   "name": "python3"
  },
  "language_info": {
   "codemirror_mode": {
    "name": "ipython",
    "version": 3
   },
   "file_extension": ".py",
   "mimetype": "text/x-python",
   "name": "python",
   "nbconvert_exporter": "python",
   "pygments_lexer": "ipython3",
   "version": "3.7.3"
  }
 },
 "nbformat": 4,
 "nbformat_minor": 2
}
